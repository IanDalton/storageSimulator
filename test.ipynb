{
 "cells": [
  {
   "cell_type": "code",
   "execution_count": null,
   "metadata": {},
   "outputs": [],
   "source": [
    "import pandas as pd\n",
    "import numpy as np"
   ]
  },
  {
   "cell_type": "code",
   "execution_count": null,
   "metadata": {},
   "outputs": [],
   "source": [
    "almacen = pd.read_excel('Base Almacén - ITBA.xlsx', sheet_name='lx03 04112013')\n",
    "estanterias_picking = almacen[almacen['Sector'] == 'Picking']['Ubicación']"
   ]
  },
  {
   "cell_type": "code",
   "execution_count": null,
   "metadata": {},
   "outputs": [],
   "source": [
    "movimientos = pd.read_csv(\"Movimientos Pallet Completo.csv\", encoding='ISO-8859-1', sep=';')\n",
    "movimientos = movimientos[~((movimientos['Ubicproc'].isin(estanterias_picking)) | (movimientos['UbicDest'].isin(estanterias_picking)))]"
   ]
  },
  {
   "cell_type": "code",
   "execution_count": null,
   "metadata": {},
   "outputs": [],
   "source": [
    "maestro = pd.read_excel('Mestro de Articulos - ITBA.xlsx', header=2)\n",
    "mov_info = pd.merge(movimientos, maestro[['Cód. Material', 'Almacenamiento',\t'Descr. Nível 1']], left_on='Material', right_on='Cód. Material', how='left')"
   ]
  },
  {
   "cell_type": "code",
   "execution_count": null,
   "metadata": {},
   "outputs": [],
   "source": [
    "mov_info = mov_info.sort_values(by='Feconf', ascending=False)\n",
    "mov_info = mov_info[mov_info['Mvto'].isin(['Recepción', 'Salidas'])]\n",
    "mov_info[\"UbicGrouping\"] = np.where(mov_info[\"Mvto\"] == \"Recepción\", mov_info[\"Ubicproc\"], mov_info[\"UbicDest\"])\n",
    "mov_info[\"id_viaje\"] = mov_info.groupby([\"Feconf\",\"Usuario\",\"UbicGrouping\"]).ngroup()"
   ]
  },
  {
   "cell_type": "code",
   "execution_count": null,
   "metadata": {},
   "outputs": [],
   "source": [
    "mov_info[[\"Material\",\"Mvto\",\"id_viaje\",\"Hinicio\",\"Feconf\",\"Almacenamiento\"]].rename(columns={\"Mvto\":\"movimiento\",\"Hinicio\":\"hora\",\"Feconf\":\"fecha\"}).sort_values([\"id_viaje\",\"fecha\",\"hora\"]).to_csv(\"movements.csv\", index=False)"
   ]
  }
 ],
 "metadata": {
  "kernelspec": {
   "display_name": "Python 3",
   "language": "python",
   "name": "python3"
  },
  "language_info": {
   "codemirror_mode": {
    "name": "ipython",
    "version": 3
   },
   "file_extension": ".py",
   "mimetype": "text/x-python",
   "name": "python",
   "nbconvert_exporter": "python",
   "pygments_lexer": "ipython3",
   "version": "3.12.7"
  }
 },
 "nbformat": 4,
 "nbformat_minor": 2
}
