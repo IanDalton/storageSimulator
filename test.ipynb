{
 "cells": [
  {
   "cell_type": "code",
   "execution_count": 14,
   "metadata": {},
   "outputs": [],
   "source": [
    "import pandas as pd\n",
    "import numpy as np"
   ]
  },
  {
   "cell_type": "code",
   "execution_count": 15,
   "metadata": {},
   "outputs": [],
   "source": [
    "almacen = pd.read_excel('Base Almacén - ITBA.xlsx', sheet_name='lx03 04112013')\n",
    "estanterias_picking = almacen[almacen['Sector'] == 'Picking']['Ubicación']"
   ]
  },
  {
   "cell_type": "code",
   "execution_count": 16,
   "metadata": {},
   "outputs": [
    {
     "name": "stderr",
     "output_type": "stream",
     "text": [
      "C:\\Users\\ianda\\AppData\\Local\\Temp\\ipykernel_6056\\2295009039.py:1: DtypeWarning: Columns (1) have mixed types. Specify dtype option on import or set low_memory=False.\n",
      "  movimientos = pd.read_csv(\"Movimientos Pallet Completo.csv\", encoding='ISO-8859-1', sep=';')\n"
     ]
    }
   ],
   "source": [
    "movimientos = pd.read_csv(\"Movimientos Pallet Completo.csv\", encoding='ISO-8859-1', sep=';')\n",
    "movimientos = movimientos[~((movimientos['Ubicproc'].isin(estanterias_picking)) | (movimientos['UbicDest'].isin(estanterias_picking)))]"
   ]
  },
  {
   "cell_type": "code",
   "execution_count": 17,
   "metadata": {},
   "outputs": [],
   "source": [
    "maestro = pd.read_excel('Mestro de Articulos - ITBA.xlsx', header=2)\n",
    "mov_info = pd.merge(movimientos, maestro[['Cód. Material', 'Almacenamiento',\t'Descr. Nível 1']], left_on='Material', right_on='Cód. Material', how='left')"
   ]
  },
  {
   "cell_type": "code",
   "execution_count": 18,
   "metadata": {},
   "outputs": [],
   "source": [
    "mov_info = mov_info.sort_values(by='Feconf', ascending=False)\n",
    "mov_info = mov_info[mov_info['Mvto'].isin(['Recepción', 'Salidas'])]\n",
    "mov_info = mov_info[mov_info['Almacenamiento'] != 'STICK']\n",
    "mov_info[\"UbicGrouping\"] = np.where(mov_info[\"Mvto\"] == \"Recepción\", mov_info[\"Ubicproc\"], mov_info[\"UbicDest\"])\n",
    "mov_info[\"id_viaje\"] = mov_info.groupby([\"Feconf\",\"Usuario\",\"UbicGrouping\"]).ngroup()"
   ]
  },
  {
   "cell_type": "code",
   "execution_count": 19,
   "metadata": {},
   "outputs": [],
   "source": [
    "mov_info_new = mov_info[[\"Material\",\"Mvto\",\"id_viaje\",\"Hinicio\",\"Feconf\",\"Almacenamiento\"]].rename(columns={\"Material\":\"material\",\"Almacenamiento\": \"almacenamiento\",\"Mvto\":\"movimiento\",\"Hinicio\":\"hora\",\"Feconf\":\"fecha\"}).sort_values([\"fecha\",\"hora\"])\n",
    "mov_info_new = mov_info_new.dropna()\n",
    "mov_info_new[:10000].to_csv(\"movements.csv\", index=False)"
   ]
  }
 ],
 "metadata": {
  "kernelspec": {
   "display_name": "Python 3",
   "language": "python",
   "name": "python3"
  },
  "language_info": {
   "codemirror_mode": {
    "name": "ipython",
    "version": 3
   },
   "file_extension": ".py",
   "mimetype": "text/x-python",
   "name": "python",
   "nbconvert_exporter": "python",
   "pygments_lexer": "ipython3",
   "version": "3.12.0"
  }
 },
 "nbformat": 4,
 "nbformat_minor": 2
}
