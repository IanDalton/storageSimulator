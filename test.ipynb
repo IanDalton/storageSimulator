{
 "cells": [
  {
   "cell_type": "code",
   "execution_count": 2,
   "metadata": {},
   "outputs": [],
   "source": [
    "import pandas as pd"
   ]
  },
  {
   "cell_type": "code",
   "execution_count": 6,
   "metadata": {},
   "outputs": [],
   "source": [
    "almacen = pd.read_excel('Base Almacén - ITBA.xlsx', sheet_name='lx03 04112013')\n",
    "estanterias_picking = almacen[almacen['Sector'] == 'Picking']['Ubicación']"
   ]
  },
  {
   "cell_type": "code",
   "execution_count": 7,
   "metadata": {},
   "outputs": [
    {
     "name": "stderr",
     "output_type": "stream",
     "text": [
      "C:\\Users\\ianda\\AppData\\Local\\Temp\\ipykernel_60988\\2295009039.py:1: DtypeWarning: Columns (1) have mixed types. Specify dtype option on import or set low_memory=False.\n",
      "  movimientos = pd.read_csv(\"Movimientos Pallet Completo.csv\", encoding='ISO-8859-1', sep=';')\n"
     ]
    }
   ],
   "source": [
    "movimientos = pd.read_csv(\"Movimientos Pallet Completo.csv\", encoding='ISO-8859-1', sep=';')\n",
    "movimientos = movimientos[~((movimientos['Ubicproc'].isin(estanterias_picking)) | (movimientos['UbicDest'].isin(estanterias_picking)))]"
   ]
  },
  {
   "cell_type": "code",
   "execution_count": 8,
   "metadata": {},
   "outputs": [],
   "source": [
    "maestro = pd.read_excel('Mestro de Articulos - ITBA.xlsx', header=2)\n",
    "mov_info = pd.merge(movimientos, maestro[['Cód. Material', 'Almacenamiento',\t'Descr. Nível 1']], left_on='Material', right_on='Cód. Material', how='left')"
   ]
  },
  {
   "cell_type": "code",
   "execution_count": 27,
   "metadata": {},
   "outputs": [
    {
     "data": {
      "text/plain": [
       "Usuario\n",
       "CLHOR16    12490\n",
       "CLHOR14    11179\n",
       "CLHOR18    10572\n",
       "CLHOR19    10513\n",
       "CLHOR15    10132\n",
       "CLHOR17     9860\n",
       "CLHOR04     8893\n",
       "CLHOR13     8766\n",
       "CLHOR07     8740\n",
       "CLHOR05     8537\n",
       "CLHOR06     7473\n",
       "CLHOR01     7215\n",
       "CLHOR10     7109\n",
       "CLHOR02     5873\n",
       "CLHOR20     5534\n",
       "CLHOR21     5498\n",
       "CLHOR12     5269\n",
       "CLHOR09     4985\n",
       "CLHOR08     4601\n",
       "CLHOR11     4145\n",
       "CLHOR03     3930\n",
       "CLHOR22     3852\n",
       "CLHOR25     3833\n",
       "CLHOR26     3193\n",
       "CLHOR23     2286\n",
       "CLHOR24     2140\n",
       "CLOPE16     1250\n",
       "CLOPE11      492\n",
       "CLOPE29      250\n",
       "CLOPE09      191\n",
       "CLOPE33       83\n",
       "CLOPE14       79\n",
       "CLOPE12       72\n",
       "CLOPE04       54\n",
       "CLOPE31       51\n",
       "CLOPE34       38\n",
       "CLOPE25       21\n",
       "CLOPE07       17\n",
       "CLOPE22       16\n",
       "CLOPE20       14\n",
       "CLOPE24       12\n",
       "CLOPE08       10\n",
       "CLOPE18        7\n",
       "CLOPE05        6\n",
       "CLOPE26        4\n",
       "CLOPE13        4\n",
       "CLOPE06        1\n",
       "Name: count, dtype: int64"
      ]
     },
     "execution_count": 27,
     "metadata": {},
     "output_type": "execute_result"
    }
   ],
   "source": [
    "mov_info[\"Usuario\"].value_counts()"
   ]
  },
  {
   "cell_type": "code",
   "execution_count": 14,
   "metadata": {},
   "outputs": [],
   "source": [
    "mov_info[[\"Material\",\"Mvto\",\"Hinicio\",\"Feconf\",\"Almacenamiento\"]].rename(columns={\"Mvto\":\"Movimiento\",\"Hinicio\":\"Hora\",\"Feconf\":\"Fecha\"}).sort_values([\"Fecha\",\"Hora\"]).to_csv(\"movements.csv\", index=False)"
   ]
  }
 ],
 "metadata": {
  "kernelspec": {
   "display_name": "Python 3",
   "language": "python",
   "name": "python3"
  },
  "language_info": {
   "codemirror_mode": {
    "name": "ipython",
    "version": 3
   },
   "file_extension": ".py",
   "mimetype": "text/x-python",
   "name": "python",
   "nbconvert_exporter": "python",
   "pygments_lexer": "ipython3",
   "version": "3.12.7"
  }
 },
 "nbformat": 4,
 "nbformat_minor": 2
}
